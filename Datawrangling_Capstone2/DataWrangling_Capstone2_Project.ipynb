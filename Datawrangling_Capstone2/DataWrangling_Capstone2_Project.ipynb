{
 "cells": [
  {
   "cell_type": "code",
   "execution_count": 1,
   "metadata": {},
   "outputs": [],
   "source": [
    "#imports\n",
    "import pandas as pd"
   ]
  },
  {
   "cell_type": "code",
   "execution_count": 30,
   "metadata": {},
   "outputs": [],
   "source": [
    "file_name = '../US_Accidents_Dec20.csv'\n",
    "df=pd.DataFrame()"
   ]
  },
  {
   "cell_type": "code",
   "execution_count": 35,
   "metadata": {},
   "outputs": [
    {
     "name": "stdout",
     "output_type": "stream",
     "text": [
      "CPU times: user 1min 46s, sys: 9.53 s, total: 1min 56s\n",
      "Wall time: 1min 56s\n"
     ]
    }
   ],
   "source": [
    "%%time\n",
    "with open(file_name) as file:\n",
    "    for chunk in pd.read_csv(file_name, chunksize = 1000):\n",
    "        df.append(chunk)"
   ]
  },
  {
   "cell_type": "code",
   "execution_count": 36,
   "metadata": {},
   "outputs": [
    {
     "data": {
      "text/plain": [
       "pandas.core.frame.DataFrame"
      ]
     },
     "execution_count": 36,
     "metadata": {},
     "output_type": "execute_result"
    }
   ],
   "source": [
    "type(df)"
   ]
  },
  {
   "cell_type": "code",
   "execution_count": 37,
   "metadata": {},
   "outputs": [
    {
     "data": {
      "text/plain": [
       "(541, 49)"
      ]
     },
     "execution_count": 37,
     "metadata": {},
     "output_type": "execute_result"
    }
   ],
   "source": [
    "df.shap"
   ]
  },
  {
   "cell_type": "code",
   "execution_count": 38,
   "metadata": {},
   "outputs": [
    {
     "data": {
      "text/html": [
       "<div>\n",
       "<style scoped>\n",
       "    .dataframe tbody tr th:only-of-type {\n",
       "        vertical-align: middle;\n",
       "    }\n",
       "\n",
       "    .dataframe tbody tr th {\n",
       "        vertical-align: top;\n",
       "    }\n",
       "\n",
       "    .dataframe thead th {\n",
       "        text-align: right;\n",
       "    }\n",
       "</style>\n",
       "<table border=\"1\" class=\"dataframe\">\n",
       "  <thead>\n",
       "    <tr style=\"text-align: right;\">\n",
       "      <th></th>\n",
       "      <th>ID</th>\n",
       "      <th>Source</th>\n",
       "      <th>TMC</th>\n",
       "      <th>Severity</th>\n",
       "      <th>Start_Time</th>\n",
       "      <th>End_Time</th>\n",
       "      <th>Start_Lat</th>\n",
       "      <th>Start_Lng</th>\n",
       "      <th>End_Lat</th>\n",
       "      <th>End_Lng</th>\n",
       "      <th>...</th>\n",
       "      <th>Roundabout</th>\n",
       "      <th>Station</th>\n",
       "      <th>Stop</th>\n",
       "      <th>Traffic_Calming</th>\n",
       "      <th>Traffic_Signal</th>\n",
       "      <th>Turning_Loop</th>\n",
       "      <th>Sunrise_Sunset</th>\n",
       "      <th>Civil_Twilight</th>\n",
       "      <th>Nautical_Twilight</th>\n",
       "      <th>Astronomical_Twilight</th>\n",
       "    </tr>\n",
       "  </thead>\n",
       "  <tbody>\n",
       "    <tr>\n",
       "      <th>4232000</th>\n",
       "      <td>A-4238866</td>\n",
       "      <td>Bing</td>\n",
       "      <td>NaN</td>\n",
       "      <td>2</td>\n",
       "      <td>2019-08-22 15:41:40</td>\n",
       "      <td>2019-08-22 19:41:40</td>\n",
       "      <td>45.635248</td>\n",
       "      <td>-120.914705</td>\n",
       "      <td>45.652470</td>\n",
       "      <td>-120.953430</td>\n",
       "      <td>...</td>\n",
       "      <td>False</td>\n",
       "      <td>False</td>\n",
       "      <td>False</td>\n",
       "      <td>False</td>\n",
       "      <td>False</td>\n",
       "      <td>False</td>\n",
       "      <td>Day</td>\n",
       "      <td>Day</td>\n",
       "      <td>Day</td>\n",
       "      <td>Day</td>\n",
       "    </tr>\n",
       "    <tr>\n",
       "      <th>4232001</th>\n",
       "      <td>A-4238867</td>\n",
       "      <td>Bing</td>\n",
       "      <td>NaN</td>\n",
       "      <td>2</td>\n",
       "      <td>2019-08-22 16:25:26</td>\n",
       "      <td>2019-08-22 20:25:26</td>\n",
       "      <td>44.669280</td>\n",
       "      <td>-123.058070</td>\n",
       "      <td>44.670200</td>\n",
       "      <td>-123.057898</td>\n",
       "      <td>...</td>\n",
       "      <td>False</td>\n",
       "      <td>False</td>\n",
       "      <td>False</td>\n",
       "      <td>False</td>\n",
       "      <td>False</td>\n",
       "      <td>False</td>\n",
       "      <td>Day</td>\n",
       "      <td>Day</td>\n",
       "      <td>Day</td>\n",
       "      <td>Day</td>\n",
       "    </tr>\n",
       "    <tr>\n",
       "      <th>4232002</th>\n",
       "      <td>A-4238868</td>\n",
       "      <td>Bing</td>\n",
       "      <td>NaN</td>\n",
       "      <td>2</td>\n",
       "      <td>2019-08-22 16:24:02</td>\n",
       "      <td>2019-08-22 20:24:02</td>\n",
       "      <td>45.168869</td>\n",
       "      <td>-123.248928</td>\n",
       "      <td>45.170848</td>\n",
       "      <td>-123.246221</td>\n",
       "      <td>...</td>\n",
       "      <td>False</td>\n",
       "      <td>False</td>\n",
       "      <td>False</td>\n",
       "      <td>False</td>\n",
       "      <td>False</td>\n",
       "      <td>False</td>\n",
       "      <td>Day</td>\n",
       "      <td>Day</td>\n",
       "      <td>Day</td>\n",
       "      <td>Day</td>\n",
       "    </tr>\n",
       "    <tr>\n",
       "      <th>4232003</th>\n",
       "      <td>A-4238869</td>\n",
       "      <td>Bing</td>\n",
       "      <td>NaN</td>\n",
       "      <td>2</td>\n",
       "      <td>2019-08-22 16:29:24</td>\n",
       "      <td>2019-08-22 20:29:24</td>\n",
       "      <td>44.028153</td>\n",
       "      <td>-121.316296</td>\n",
       "      <td>44.028820</td>\n",
       "      <td>-121.315720</td>\n",
       "      <td>...</td>\n",
       "      <td>False</td>\n",
       "      <td>False</td>\n",
       "      <td>False</td>\n",
       "      <td>False</td>\n",
       "      <td>False</td>\n",
       "      <td>False</td>\n",
       "      <td>Day</td>\n",
       "      <td>Day</td>\n",
       "      <td>Day</td>\n",
       "      <td>Day</td>\n",
       "    </tr>\n",
       "    <tr>\n",
       "      <th>4232004</th>\n",
       "      <td>A-4238870</td>\n",
       "      <td>Bing</td>\n",
       "      <td>NaN</td>\n",
       "      <td>2</td>\n",
       "      <td>2019-08-22 16:33:16</td>\n",
       "      <td>2019-08-22 20:33:16</td>\n",
       "      <td>45.558339</td>\n",
       "      <td>-122.678480</td>\n",
       "      <td>45.561960</td>\n",
       "      <td>-122.678480</td>\n",
       "      <td>...</td>\n",
       "      <td>False</td>\n",
       "      <td>False</td>\n",
       "      <td>False</td>\n",
       "      <td>False</td>\n",
       "      <td>False</td>\n",
       "      <td>False</td>\n",
       "      <td>Day</td>\n",
       "      <td>Day</td>\n",
       "      <td>Day</td>\n",
       "      <td>Day</td>\n",
       "    </tr>\n",
       "  </tbody>\n",
       "</table>\n",
       "<p>5 rows × 49 columns</p>\n",
       "</div>"
      ],
      "text/plain": [
       "                ID Source  TMC  Severity           Start_Time  \\\n",
       "4232000  A-4238866   Bing  NaN         2  2019-08-22 15:41:40   \n",
       "4232001  A-4238867   Bing  NaN         2  2019-08-22 16:25:26   \n",
       "4232002  A-4238868   Bing  NaN         2  2019-08-22 16:24:02   \n",
       "4232003  A-4238869   Bing  NaN         2  2019-08-22 16:29:24   \n",
       "4232004  A-4238870   Bing  NaN         2  2019-08-22 16:33:16   \n",
       "\n",
       "                    End_Time  Start_Lat   Start_Lng    End_Lat     End_Lng  \\\n",
       "4232000  2019-08-22 19:41:40  45.635248 -120.914705  45.652470 -120.953430   \n",
       "4232001  2019-08-22 20:25:26  44.669280 -123.058070  44.670200 -123.057898   \n",
       "4232002  2019-08-22 20:24:02  45.168869 -123.248928  45.170848 -123.246221   \n",
       "4232003  2019-08-22 20:29:24  44.028153 -121.316296  44.028820 -121.315720   \n",
       "4232004  2019-08-22 20:33:16  45.558339 -122.678480  45.561960 -122.678480   \n",
       "\n",
       "         ...  Roundabout Station   Stop Traffic_Calming Traffic_Signal  \\\n",
       "4232000  ...       False   False  False           False          False   \n",
       "4232001  ...       False   False  False           False          False   \n",
       "4232002  ...       False   False  False           False          False   \n",
       "4232003  ...       False   False  False           False          False   \n",
       "4232004  ...       False   False  False           False          False   \n",
       "\n",
       "        Turning_Loop Sunrise_Sunset Civil_Twilight Nautical_Twilight  \\\n",
       "4232000        False            Day            Day               Day   \n",
       "4232001        False            Day            Day               Day   \n",
       "4232002        False            Day            Day               Day   \n",
       "4232003        False            Day            Day               Day   \n",
       "4232004        False            Day            Day               Day   \n",
       "\n",
       "        Astronomical_Twilight  \n",
       "4232000                   Day  \n",
       "4232001                   Day  \n",
       "4232002                   Day  \n",
       "4232003                   Day  \n",
       "4232004                   Day  \n",
       "\n",
       "[5 rows x 49 columns]"
      ]
     },
     "execution_count": 38,
     "metadata": {},
     "output_type": "execute_result"
    }
   ],
   "source": [
    "df.head()"
   ]
  },
  {
   "cell_type": "code",
   "execution_count": 27,
   "metadata": {},
   "outputs": [
    {
     "name": "stdout",
     "output_type": "stream",
     "text": [
      "ID,Source,TMC,Severity,Start_Time,End_Time,Start_Lat,Start_Lng,End_Lat,End_Lng,Distance(mi),Description,Number,Street,Side,City,County,State,Zipcode,Country,Timezone,Airport_Code,Weather_Timestamp,Temperature(F),Wind_Chill(F),Humidity(%),Pressure(in),Visibility(mi),Wind_Direction,Wind_Speed(mph),Precipitation(in),Weather_Condition,Amenity,Bump,Crossing,Give_Way,Junction,No_Exit,Railway,Roundabout,Station,Stop,Traffic_Calming,Traffic_Signal,Turning_Loop,Sunrise_Sunset,Civil_Twilight,Nautical_Twilight,Astronomical_Twilight\n",
      "\n"
     ]
    }
   ],
   "source": [
    "file = open(file_name)\n",
    "it = iter(file)\n",
    "print(next(it))"
   ]
  },
  {
   "cell_type": "code",
   "execution_count": 28,
   "metadata": {},
   "outputs": [
    {
     "name": "stdout",
     "output_type": "stream",
     "text": [
      "A-1,MapQuest,201.0,3,2016-02-08 05:46:00,2016-02-08 11:00:00,39.865147,-84.058723,,,0.01,Right lane blocked due to accident on I-70 Eastbound at Exit 41 OH-235 State Route 4.,,I-70 E,R,Dayton,Montgomery,OH,45424,US,US/Eastern,KFFO,2016-02-08 05:58:00,36.9,,91.0,29.68,10.0,Calm,,0.02,Light Rain,False,False,False,False,False,False,False,False,False,False,False,False,False,Night,Night,Night,Night\n",
      "\n"
     ]
    }
   ],
   "source": [
    "print(next(it))"
   ]
  },
  {
   "cell_type": "code",
   "execution_count": 29,
   "metadata": {},
   "outputs": [
    {
     "name": "stdout",
     "output_type": "stream",
     "text": [
      "A-2,MapQuest,201.0,2,2016-02-08 06:07:59,2016-02-08 06:37:59,39.928059,-82.831184,,,0.01,Accident on Brice Rd at Tussing Rd. Expect delays.,2584.0,Brice Rd,L,Reynoldsburg,Franklin,OH,43068-3402,US,US/Eastern,KCMH,2016-02-08 05:51:00,37.9,,100.0,29.65,10.0,Calm,,0.0,Light Rain,False,False,False,False,False,False,False,False,False,False,False,False,False,Night,Night,Night,Day\n",
      "\n"
     ]
    }
   ],
   "source": [
    "print(next(it))"
   ]
  },
  {
   "cell_type": "code",
   "execution_count": 15,
   "metadata": {},
   "outputs": [
    {
     "name": "stdout",
     "output_type": "stream",
     "text": [
      "CPU times: user 1min 22s, sys: 12.9 s, total: 1min 35s\n",
      "Wall time: 1min 40s\n"
     ]
    }
   ],
   "source": [
    "%%time\n",
    "for chunk in pd.read_csv(file_name, chunksize = 1000):\n",
    "    df.append(chunk)"
   ]
  },
  {
   "cell_type": "code",
   "execution_count": 16,
   "metadata": {},
   "outputs": [
    {
     "data": {
      "text/plain": [
       "list"
      ]
     },
     "execution_count": 16,
     "metadata": {},
     "output_type": "execute_result"
    }
   ],
   "source": [
    "type(df)"
   ]
  },
  {
   "cell_type": "code",
   "execution_count": 17,
   "metadata": {},
   "outputs": [
    {
     "name": "stdout",
     "output_type": "stream",
     "text": [
      "CPU times: user 14.2 s, sys: 8.54 s, total: 22.8 s\n",
      "Wall time: 23.3 s\n"
     ]
    }
   ],
   "source": [
    "%%time\n",
    "df1 = pd.DataFrame(df)"
   ]
  },
  {
   "cell_type": "code",
   "execution_count": 18,
   "metadata": {},
   "outputs": [
    {
     "data": {
      "text/plain": [
       "pandas.core.frame.DataFrame"
      ]
     },
     "execution_count": 18,
     "metadata": {},
     "output_type": "execute_result"
    }
   ],
   "source": [
    "type(df1)"
   ]
  },
  {
   "cell_type": "code",
   "execution_count": 19,
   "metadata": {},
   "outputs": [
    {
     "data": {
      "text/plain": [
       "(8466, 1)"
      ]
     },
     "execution_count": 19,
     "metadata": {},
     "output_type": "execute_result"
    }
   ],
   "source": [
    "df1.shape"
   ]
  },
  {
   "cell_type": "code",
   "execution_count": 42,
   "metadata": {},
   "outputs": [
    {
     "name": "stdout",
     "output_type": "stream",
     "text": [
      "ID,Source,TMC,Severity,Start_Time,End_Time,Start_Lat,Start_Lng,End_Lat,End_Lng,Distance(mi),Description,Number,Street,Side,City,County,State,Zipcode,Country,Timezone,Airport_Code,Weather_Timestamp,Temperature(F),Wind_Chill(F),Humidity(%),Pressure(in),Visibility(mi),Wind_Direction,Wind_Speed(mph),Precipitation(in),Weather_Condition,Amenity,Bump,Crossing,Give_Way,Junction,No_Exit,Railway,Roundabout,Station,Stop,Traffic_Calming,Traffic_Signal,Turning_Loop,Sunrise_Sunset,Civil_Twilight,Nautical_Twilight,Astronomical_Twilight\n",
      "\n",
      "A-1,MapQuest,201.0,3,2016-02-08 05:46:00,2016-02-08 11:00:00,39.865147,-84.058723,,,0.01,Right lane blocked due to accident on I-70 Eastbound at Exit 41 OH-235 State Route 4.,,I-70 E,R,Dayton,Montgomery,OH,45424,US,US/Eastern,KFFO,2016-02-08 05:58:00,36.9,,91.0,29.68,10.0,Calm,,0.02,Light Rain,False,False,False,False,False,False,False,False,False,False,False,False,False,Night,Night,Night,Night\n",
      "\n"
     ]
    }
   ],
   "source": [
    "def read_large_file(file_obj):\n",
    "    while True:\n",
    "        data = file_obj.readline()\n",
    "        if not data:\n",
    "            break\n",
    "        \n",
    "        yield data\n",
    "with open('../US_Accidents_Dec20.csv') as file:\n",
    "    gen_file = read_large_file(file)\n",
    "    print(next(gen_file))\n",
    "    print(next(gen_file))"
   ]
  },
  {
   "cell_type": "code",
   "execution_count": null,
   "metadata": {},
   "outputs": [],
   "source": [
    "df = pd.DataFrame()\n",
    "for line in gen_file:\n",
    "    df.append(line)\n",
    "    \n",
    "    "
   ]
  },
  {
   "cell_type": "code",
   "execution_count": 21,
   "metadata": {},
   "outputs": [
    {
     "data": {
      "text/plain": [
       "<bound method NDFrame.head of                                                       0\n",
       "0              ID    Source    TMC  Severity        ...\n",
       "1               ID    Source    TMC  Severity       ...\n",
       "2               ID    Source    TMC  Severity       ...\n",
       "3               ID    Source    TMC  Severity       ...\n",
       "4               ID    Source    TMC  Severity       ...\n",
       "...                                                 ...\n",
       "8461                  ID Source  TMC  Severity      ...\n",
       "8462                  ID Source  TMC  Severity      ...\n",
       "8463                  ID Source  TMC  Severity      ...\n",
       "8464                  ID Source  TMC  Severity      ...\n",
       "8465                  ID Source  TMC  Severity      ...\n",
       "\n",
       "[8466 rows x 1 columns]>"
      ]
     },
     "execution_count": 21,
     "metadata": {},
     "output_type": "execute_result"
    }
   ],
   "source": [
    "df1.head"
   ]
  },
  {
   "cell_type": "code",
   "execution_count": 43,
   "metadata": {},
   "outputs": [],
   "source": [
    "df2=pd.read_csv(file_name, nrows = 1000000)"
   ]
  },
  {
   "cell_type": "code",
   "execution_count": 44,
   "metadata": {},
   "outputs": [
    {
     "data": {
      "text/plain": [
       "pandas.core.frame.DataFrame"
      ]
     },
     "execution_count": 44,
     "metadata": {},
     "output_type": "execute_result"
    }
   ],
   "source": [
    "type(df2)"
   ]
  },
  {
   "cell_type": "code",
   "execution_count": 45,
   "metadata": {},
   "outputs": [
    {
     "data": {
      "text/plain": [
       "(1000000, 49)"
      ]
     },
     "execution_count": 45,
     "metadata": {},
     "output_type": "execute_result"
    }
   ],
   "source": [
    "df2.shape"
   ]
  },
  {
   "cell_type": "code",
   "execution_count": 25,
   "metadata": {},
   "outputs": [
    {
     "data": {
      "text/plain": [
       "<bound method NDFrame.head of          ID    Source    TMC  Severity           Start_Time  \\\n",
       "0       A-1  MapQuest  201.0         3  2016-02-08 05:46:00   \n",
       "1       A-2  MapQuest  201.0         2  2016-02-08 06:07:59   \n",
       "2       A-3  MapQuest  201.0         2  2016-02-08 06:49:27   \n",
       "3       A-4  MapQuest  201.0         3  2016-02-08 07:23:34   \n",
       "4       A-5  MapQuest  201.0         2  2016-02-08 07:39:07   \n",
       "..      ...       ...    ...       ...                  ...   \n",
       "995   A-996  MapQuest  201.0         2  2016-06-23 10:31:07   \n",
       "996   A-997  MapQuest  201.0         3  2016-06-23 10:22:09   \n",
       "997   A-998  MapQuest  201.0         2  2016-06-23 10:31:51   \n",
       "998   A-999  MapQuest  201.0         2  2016-06-23 10:32:51   \n",
       "999  A-1000  MapQuest  201.0         2  2016-06-23 10:31:12   \n",
       "\n",
       "                End_Time  Start_Lat   Start_Lng  End_Lat  End_Lng  ...  \\\n",
       "0    2016-02-08 11:00:00  39.865147  -84.058723      NaN      NaN  ...   \n",
       "1    2016-02-08 06:37:59  39.928059  -82.831184      NaN      NaN  ...   \n",
       "2    2016-02-08 07:19:27  39.063148  -84.032608      NaN      NaN  ...   \n",
       "3    2016-02-08 07:53:34  39.747753  -84.205582      NaN      NaN  ...   \n",
       "4    2016-02-08 08:09:07  39.627781  -84.188354      NaN      NaN  ...   \n",
       "..                   ...        ...         ...      ...      ...  ...   \n",
       "995  2016-06-23 11:01:07  38.022778 -121.965698      NaN      NaN  ...   \n",
       "996  2016-06-23 10:52:09  37.656654 -121.901588      NaN      NaN  ...   \n",
       "997  2016-06-23 11:46:51  38.690273 -121.392136      NaN      NaN  ...   \n",
       "998  2016-06-23 11:47:51  38.681110 -121.333244      NaN      NaN  ...   \n",
       "999  2016-06-23 11:01:12  38.653061 -121.070541      NaN      NaN  ...   \n",
       "\n",
       "     Roundabout Station   Stop Traffic_Calming Traffic_Signal Turning_Loop  \\\n",
       "0         False   False  False           False          False        False   \n",
       "1         False   False  False           False          False        False   \n",
       "2         False   False  False           False           True        False   \n",
       "3         False   False  False           False          False        False   \n",
       "4         False   False  False           False           True        False   \n",
       "..          ...     ...    ...             ...            ...          ...   \n",
       "995       False   False  False           False          False        False   \n",
       "996       False   False  False           False          False        False   \n",
       "997       False   False  False           False           True        False   \n",
       "998       False   False  False           False           True        False   \n",
       "999       False   False  False           False          False        False   \n",
       "\n",
       "    Sunrise_Sunset Civil_Twilight Nautical_Twilight Astronomical_Twilight  \n",
       "0            Night          Night             Night                 Night  \n",
       "1            Night          Night             Night                   Day  \n",
       "2            Night          Night               Day                   Day  \n",
       "3            Night            Day               Day                   Day  \n",
       "4              Day            Day               Day                   Day  \n",
       "..             ...            ...               ...                   ...  \n",
       "995            Day            Day               Day                   Day  \n",
       "996            Day            Day               Day                   Day  \n",
       "997            Day            Day               Day                   Day  \n",
       "998            Day            Day               Day                   Day  \n",
       "999            Day            Day               Day                   Day  \n",
       "\n",
       "[1000 rows x 49 columns]>"
      ]
     },
     "execution_count": 25,
     "metadata": {},
     "output_type": "execute_result"
    }
   ],
   "source": [
    "df2.head"
   ]
  },
  {
   "cell_type": "code",
   "execution_count": null,
   "metadata": {},
   "outputs": [],
   "source": []
  }
 ],
 "metadata": {
  "kernelspec": {
   "display_name": "Python 3",
   "language": "python",
   "name": "python3"
  },
  "language_info": {
   "codemirror_mode": {
    "name": "ipython",
    "version": 3
   },
   "file_extension": ".py",
   "mimetype": "text/x-python",
   "name": "python",
   "nbconvert_exporter": "python",
   "pygments_lexer": "ipython3",
   "version": "3.8.3"
  }
 },
 "nbformat": 4,
 "nbformat_minor": 4
}
